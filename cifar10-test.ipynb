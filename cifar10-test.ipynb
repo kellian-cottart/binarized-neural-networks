{
 "cells": [
  {
   "cell_type": "code",
   "execution_count": 19,
   "metadata": {},
   "outputs": [],
   "source": [
    "import torch\n",
    "import pickle\n",
    "import numpy as np\n",
    "import matplotlib.pyplot as plt\n",
    "from torchvision import transforms\n"
   ]
  },
  {
   "cell_type": "code",
   "execution_count": 20,
   "metadata": {},
   "outputs": [],
   "source": [
    "PATH_CIFAR100 = \"datasets/cifar-100-python\"\n",
    "PATH_DATABATCH = [f\"{PATH_CIFAR100}/train\"]\n",
    "PATH_TESTBATCH = f\"{PATH_CIFAR100}/test\""
   ]
  },
  {
   "cell_type": "code",
   "execution_count": 26,
   "metadata": {},
   "outputs": [
    {
     "data": {
      "image/png": "[encoded data removed]",
      "text/plain": [
       "<Figure size 640x480 with 1 Axes>"
      ]
     },
     "metadata": {},
     "output_type": "display_data"
    }
   ],
   "source": [
    "class GPUData:\n",
    "    def __init__(self):\n",
    "        self.device = \"cuda\"\n",
    "        self.padding = 4\n",
    "    def cifar100(self):\n",
    "        # Start by loading the training data\n",
    "        path_databatch = PATH_DATABATCH\n",
    "        path_testbatch = PATH_TESTBATCH\n",
    "        \n",
    "        with open(path_databatch[0], \"rb\") as f:\n",
    "            data = pickle.load(f, encoding=\"bytes\")\n",
    "            train_x = data[b\"data\"]\n",
    "            train_y = data[b\"fine_labels\"]\n",
    "        with open(path_testbatch, \"rb\") as f:\n",
    "            data = pickle.load(f, encoding=\"bytes\")\n",
    "            test_x = data[b\"data\"]\n",
    "            test_y = data[b\"fine_labels\"]\n",
    "        # Establish the transformation\n",
    "        transform = transforms.Compose([\n",
    "            transforms.ToTensor(),\n",
    "            transforms.Normalize((0,), (1,))\n",
    "        ])\n",
    "        \n",
    "        # Convert the data to tensor and normalize it\n",
    "        train_x = transform(train_x)\n",
    "        test_x = transform(test_x)\n",
    "\n",
    "        # Deflatten the data\n",
    "        train_x = train_x.view(-1, 3, 32, 32)\n",
    "        test_x = test_x.view(-1, 3, 32, 32)\n",
    "\n",
    "        # Add padding if necessary\n",
    "        train_x = torch.nn.functional.pad(\n",
    "            train_x, (self.padding, self.padding, self.padding, self.padding))\n",
    "        test_x = torch.nn.functional.pad(\n",
    "            test_x, (self.padding, self.padding, self.padding, self.padding))\n",
    "        \n",
    "        # Flatten the images back to their original shape\n",
    "        train_x = train_x.view(train_x.shape[0], -1)\n",
    "        test_x = test_x.view(test_x.shape[0], -1)\n",
    "        return self.batching(train_x, train_y, test_x, test_y, batch_size)\n",
    "\n",
    "g = GPUData()\n",
    "g.cifar100()\n"
   ]
  }
 ],
 "metadata": {
  "kernelspec": {
   "display_name": "binarized",
   "language": "python",
   "name": "python3"
  },
  "language_info": {
   "codemirror_mode": {
    "name": "ipython",
    "version": 3
   },
   "file_extension": ".py",
   "mimetype": "text/x-python",
   "name": "python",
   "nbconvert_exporter": "python",
   "pygments_lexer": "ipython3",
   "version": "3.9.18"
  }
 },
 "nbformat": 4,
 "nbformat_minor": 2
}
