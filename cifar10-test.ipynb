{
 "cells": [
  {
   "cell_type": "code",
   "execution_count": 19,
   "metadata": {},
   "outputs": [],
   "source": [
    "import torch\n",
    "import pickle\n",
    "import numpy as np\n",
    "import matplotlib.pyplot as plt\n",
    "from torchvision import transforms\n"
   ]
  },
  {
   "cell_type": "code",
   "execution_count": 20,
   "metadata": {},
   "outputs": [],
   "source": [
    "PATH_CIFAR100 = \"datasets/cifar-100-python\"\n",
    "PATH_DATABATCH = [f\"{PATH_CIFAR100}/train\"]\n",
    "PATH_TESTBATCH = f\"{PATH_CIFAR100}/test\""
   ]
  },
  {
   "cell_type": "code",
   "execution_count": 25,
   "metadata": {},
   "outputs": [
    {
     "ename": "RuntimeError",
     "evalue": "shape '[3, 32, 32]' is invalid for input of size 4800",
     "output_type": "error",
     "traceback": [
      "\u001b[0;31m---------------------------------------------------------------------------\u001b[0m",
      "\u001b[0;31mRuntimeError\u001b[0m                              Traceback (most recent call last)",
      "Cell \u001b[0;32mIn[25], line 41\u001b[0m\n\u001b[1;32m     38\u001b[0m         plt\u001b[38;5;241m.\u001b[39mimshow(train_x[\u001b[38;5;241m0\u001b[39m]\u001b[38;5;241m.\u001b[39mview(\u001b[38;5;241m3\u001b[39m, \u001b[38;5;241m32\u001b[39m, \u001b[38;5;241m32\u001b[39m)\u001b[38;5;241m.\u001b[39mpermute(\u001b[38;5;241m1\u001b[39m, \u001b[38;5;241m2\u001b[39m, \u001b[38;5;241m0\u001b[39m)\u001b[38;5;241m.\u001b[39mnumpy())\n\u001b[1;32m     40\u001b[0m g \u001b[38;5;241m=\u001b[39m GPUData()\n\u001b[0;32m---> 41\u001b[0m \u001b[43mg\u001b[49m\u001b[38;5;241;43m.\u001b[39;49m\u001b[43mcifar100\u001b[49m\u001b[43m(\u001b[49m\u001b[43m)\u001b[49m\n",
      "Cell \u001b[0;32mIn[25], line 38\u001b[0m, in \u001b[0;36mGPUData.cifar100\u001b[0;34m(self)\u001b[0m\n\u001b[1;32m     35\u001b[0m test_x \u001b[38;5;241m=\u001b[39m torch\u001b[38;5;241m.\u001b[39mnn\u001b[38;5;241m.\u001b[39mfunctional\u001b[38;5;241m.\u001b[39mpad(\n\u001b[1;32m     36\u001b[0m     test_x, (\u001b[38;5;28mself\u001b[39m\u001b[38;5;241m.\u001b[39mpadding, \u001b[38;5;28mself\u001b[39m\u001b[38;5;241m.\u001b[39mpadding, \u001b[38;5;28mself\u001b[39m\u001b[38;5;241m.\u001b[39mpadding, \u001b[38;5;28mself\u001b[39m\u001b[38;5;241m.\u001b[39mpadding))\n\u001b[1;32m     37\u001b[0m \u001b[38;5;66;03m# plot the first image\u001b[39;00m\n\u001b[0;32m---> 38\u001b[0m plt\u001b[38;5;241m.\u001b[39mimshow(\u001b[43mtrain_x\u001b[49m\u001b[43m[\u001b[49m\u001b[38;5;241;43m0\u001b[39;49m\u001b[43m]\u001b[49m\u001b[38;5;241;43m.\u001b[39;49m\u001b[43mview\u001b[49m\u001b[43m(\u001b[49m\u001b[38;5;241;43m3\u001b[39;49m\u001b[43m,\u001b[49m\u001b[43m \u001b[49m\u001b[38;5;241;43m32\u001b[39;49m\u001b[43m,\u001b[49m\u001b[43m \u001b[49m\u001b[38;5;241;43m32\u001b[39;49m\u001b[43m)\u001b[49m\u001b[38;5;241m.\u001b[39mpermute(\u001b[38;5;241m1\u001b[39m, \u001b[38;5;241m2\u001b[39m, \u001b[38;5;241m0\u001b[39m)\u001b[38;5;241m.\u001b[39mnumpy())\n",
      "\u001b[0;31mRuntimeError\u001b[0m: shape '[3, 32, 32]' is invalid for input of size 4800"
     ]
    }
   ],
   "source": [
    "class GPUData:\n",
    "    def __init__(self):\n",
    "        self.device = \"cuda\"\n",
    "        self.padding = 4\n",
    "    def cifar100(self):\n",
    "        # Start by loading the training data\n",
    "        path_databatch = PATH_DATABATCH\n",
    "        path_testbatch = PATH_TESTBATCH\n",
    "        \n",
    "        with open(path_databatch[0], \"rb\") as f:\n",
    "            data = pickle.load(f, encoding=\"bytes\")\n",
    "            train_x = data[b\"data\"]\n",
    "            train_y = data[b\"fine_labels\"]\n",
    "        with open(path_testbatch, \"rb\") as f:\n",
    "            data = pickle.load(f, encoding=\"bytes\")\n",
    "            test_x = data[b\"data\"]\n",
    "            test_y = data[b\"fine_labels\"]\n",
    "        # Establish the transformation\n",
    "        transform = transforms.Compose([\n",
    "            transforms.ToTensor(),\n",
    "            transforms.Normalize((0,), (1,))\n",
    "        ])\n",
    "        \n",
    "        # Convert the data to tensor and normalize it\n",
    "        train_x = transform(train_x)\n",
    "        test_x = transform(test_x)\n",
    "\n",
    "        # Deflatten the data\n",
    "        train_x = train_x.view(-1, 3, 32, 32)\n",
    "        test_x = test_x.view(-1, 3, 32, 32)\n",
    "\n",
    "        # Add padding if necessary\n",
    "        train_x = torch.nn.functional.pad(\n",
    "            train_x, (self.padding, self.padding, self.padding, self.padding))\n",
    "        test_x = torch.nn.functional.pad(\n",
    "            test_x, (self.padding, self.padding, self.padding, self.padding))\n",
    "        # plot the first image\n",
    "        plt.imshow(train_x[0].view(3, 32, 32).permute(1, 2, 0).numpy())\n",
    "\n",
    "g = GPUData()\n",
    "g.cifar100()\n"
   ]
  }
 ],
 "metadata": {
  "kernelspec": {
   "display_name": "binarized",
   "language": "python",
   "name": "python3"
  },
  "language_info": {
   "codemirror_mode": {
    "name": "ipython",
    "version": 3
   },
   "file_extension": ".py",
   "mimetype": "text/x-python",
   "name": "python",
   "nbconvert_exporter": "python",
   "pygments_lexer": "ipython3",
   "version": "3.9.18"
  }
 },
 "nbformat": 4,
 "nbformat_minor": 2
}
