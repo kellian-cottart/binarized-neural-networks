{
 "cells": [
  {
   "cell_type": "code",
   "execution_count": 10,
   "metadata": {},
   "outputs": [],
   "source": [
    "import torch\n",
    "import pickle\n",
    "import numpy as np\n",
    "import matplotlib.pyplot as plt\n",
    "from torchvision import transforms\n"
   ]
  },
  {
   "cell_type": "code",
   "execution_count": 11,
   "metadata": {},
   "outputs": [],
   "source": [
    "PATH_CIFAR10 = \"datasets/cifar-10-batches-py\"\n",
    "PATH_DATABATCH = [f\"{PATH_CIFAR10}/data_batch_{i}\" for i in range(1, 6)]\n",
    "PATH_TESTBATCH = f\"{PATH_CIFAR10}/test_batch\"\n",
    "device = torch.device(\"cuda\" if torch.cuda.is_available() else \"cpu\")"
   ]
  },
  {
   "cell_type": "code",
   "execution_count": 17,
   "metadata": {},
   "outputs": [
    {
     "name": "stdout",
     "output_type": "stream",
     "text": [
      "tensor(6)\n"
     ]
    },
    {
     "data": {
      "image/png": "[encoded data removed]",
      "text/plain": [
       "<Figure size 640x480 with 1 Axes>"
      ]
     },
     "metadata": {},
     "output_type": "display_data"
    }
   ],
   "source": [
    "class GPUData:\n",
    "    def __init__(self):\n",
    "        self.device = \"cuda\"\n",
    "        self.padding = 4\n",
    "    def cifar10(self):\n",
    "        # Start by loading the training data\n",
    "        path_databatch = PATH_DATABATCH\n",
    "        path_testbatch = PATH_TESTBATCH\n",
    "\n",
    "        # Deal with the training data\n",
    "        train_x = []\n",
    "        train_y = []\n",
    "        for path in path_databatch:\n",
    "            with open(path, 'rb') as f:\n",
    "                dict = pickle.load(f, encoding='bytes')\n",
    "            train_x.append(dict[b'data'])\n",
    "            train_y.append(dict[b'labels'])\n",
    "        train_x = np.concatenate(train_x)\n",
    "        train_y = np.concatenate(train_y)\n",
    "\n",
    "        # Deal with the test data\n",
    "        with open(path_testbatch, 'rb') as f:\n",
    "            dict = pickle.load(f, encoding='bytes')\n",
    "        test_x = dict[b'data']\n",
    "        test_y = dict[b'labels']\n",
    "\n",
    "        # Establish the transformation)\n",
    "        transform = transforms.Compose([\n",
    "            transforms.ToTensor(),\n",
    "            transforms.Normalize((0,), (1,))\n",
    "        ])\n",
    "\n",
    "        # Convert the data to tensor and normalize it\n",
    "        train_x = transform(train_x)\n",
    "        test_x = transform(test_x)\n",
    "\n",
    "        # Deflatten the data\n",
    "        train_x = train_x.view(-1, 3, 32, 32)\n",
    "        test_x = test_x.view(-1, 3, 32, 32)\n",
    "\n",
    "        # Add padding if necessary\n",
    "        train_x = torch.nn.functional.pad(\n",
    "                    train_x, (self.padding, self.padding, self.padding, self.padding))\n",
    "        test_x = torch.nn.functional.pad(\n",
    "            test_x, (self.padding, self.padding, self.padding, self.padding))\n",
    "\n",
    "        # # plot the first image\n",
    "        # plt.imshow(np.transpose(train_x[0], (1, 2, 0)))\n",
    "        # print(train_y[0])\n",
    "\n",
    "        # Flatten the images back to their original shape\n",
    "        train_x = train_x.view(train_x.shape[0], -1)\n",
    "        test_x = test_x.view(test_x.shape[0], -1)\n",
    "        \n",
    "        train_dataset = GPUTensorDataset(\n",
    "            train_x, torch.from_numpy(train_y).type(\n",
    "                torch.LongTensor), device=self.device)\n",
    "        test_dataset = GPUTensorDataset(test_x.float(), torch.from_numpy(test_y).type(\n",
    "            torch.LongTensor), device=self.device)\n",
    "        max_batch_size = len(test_dataset)\n",
    "        if not self.as_dataset:\n",
    "            # create a DataLoader to load the data in batches\n",
    "            train_dataset = GPUDataLoader(\n",
    "                train_dataset, batch_size=batch_size, shuffle=True, drop_last=True)\n",
    "            test_dataset = GPUDataLoader(\n",
    "                test_dataset, batch_size=max_batch_size, shuffle=False)\n",
    "        else:\n",
    "            # create a DataLoader to load the data in batches\n",
    "            train_dataset = torch.utils.data.DataLoader(\n",
    "                train_dataset, batch_size=batch_size, shuffle=True, drop_last=True)\n",
    "            test_dataset = torch.utils.data.DataLoader(\n",
    "                test_dataset, batch_size=max_batch_size, shuffle=False)\n",
    "        return train_dataset, test_dataset\n",
    "g = GPUData()\n",
    "g.cifar10()\n"
   ]
  }
 ],
 "metadata": {
  "kernelspec": {
   "display_name": "binarized",
   "language": "python",
   "name": "python3"
  },
  "language_info": {
   "codemirror_mode": {
    "name": "ipython",
    "version": 3
   },
   "file_extension": ".py",
   "mimetype": "text/x-python",
   "name": "python",
   "nbconvert_exporter": "python",
   "pygments_lexer": "ipython3",
   "version": "3.9.18"
  }
 },
 "nbformat": 4,
 "nbformat_minor": 2
}
