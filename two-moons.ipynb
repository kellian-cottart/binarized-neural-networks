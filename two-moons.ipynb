{
 "cells": [
  {
   "cell_type": "markdown",
   "metadata": {},
   "source": [
    "# <a id='toc1_'></a>[TWO MOONS DATASET EXPERIMENTS](#toc0_)\n",
    "\n",
    "The purpose of this notebook will be to analyze the behavior of the networks on a toy task, namely: the two moons dataset. This dataset is a simple binary classification task, where the goal is to separate two half-moon shaped clusters. The dataset is generated using the `make_moons` function from `sklearn.datasets`.\n",
    "\n",
    "We want to see if the network manages to have uncertainty in the regions where the two moons are close to each other, and if it is able to correctly classify the points in the two moons."
   ]
  },
  {
   "cell_type": "markdown",
   "metadata": {},
   "source": [
    "**Table of contents**<a id='toc0_'></a>    \n",
    "- [TWO MOONS DATASET EXPERIMENTS](#toc1_)    \n",
    "  - [Imports](#toc1_1_)    \n",
    "  - [Train / test split](#toc1_2_)    \n",
    "  - [Configuration of the network](#toc1_3_)    \n",
    "  - [Training the network](#toc1_4_)    \n",
    "\n",
    "<!-- vscode-jupyter-toc-config\n",
    "\tnumbering=false\n",
    "\tanchor=true\n",
    "\tflat=false\n",
    "\tminLevel=1\n",
    "\tmaxLevel=6\n",
    "\t/vscode-jupyter-toc-config -->\n",
    "<!-- THIS CELL WILL BE REPLACED ON TOC UPDATE. DO NOT WRITE YOUR TEXT IN THIS CELL -->"
   ]
  },
  {
   "cell_type": "markdown",
   "metadata": {},
   "source": [
    "## <a id='toc1_1_'></a>[Imports](#toc0_)\n",
    "Importing libraries and setting the global variables"
   ]
  },
  {
   "cell_type": "code",
   "execution_count": null,
   "metadata": {},
   "outputs": [
    {
     "ename": "",
     "evalue": "",
     "output_type": "error",
     "traceback": [
      "\u001b[1;31mRunning cells with 'nougat' requires the ipykernel package.\n",
      "\u001b[1;31mRun the following command to install 'ipykernel' into the Python environment. \n",
      "\u001b[1;31mCommand: 'conda install -n nougat ipykernel --update-deps --force-reinstall'"
     ]
    }
   ],
   "source": [
    "from utils import *\n",
    "from dataloader import *\n",
    "import models\n",
    "import torch\n",
    "import trainer\n",
    "from optimizer import *\n",
    "from sklearn.datasets import make_moons\n",
    "\n",
    "SEED = 2506  # Random seed\n",
    "N_NETWORKS = 1  # Number of networks to train\n",
    "DEVICE = torch.device(\"cuda:0\" if torch.cuda.is_available() else \"cpu\")\n",
    "\n",
    "### PATHS ###\n",
    "SAVE_FOLDER = \"saved-two-moons\"\n",
    "DATASETS_PATH = \"datasets\"\n",
    "\n",
    "### SEED ###\n",
    "torch.manual_seed(SEED)\n",
    "if torch.cuda.is_available():\n",
    "    torch.cuda.manual_seed(SEED)\n",
    "    torch.set_default_device(DEVICE)\n",
    "    torch.set_default_dtype(torch.float32)"
   ]
  },
  {
   "cell_type": "markdown",
   "metadata": {},
   "source": [
    "## <a id='toc1_2_'></a>[Train / test split](#toc0_)\n",
    "\n",
    "We split the dataset into a train and test set. The test set will be used to evaluate the performance of the network, while the train set will be used to train the network. We separate the data into:\n",
    "- `x_train`: the input data for the training set with 1024 points\n",
    "- `y_train`: the labels for the training set with 1024 points\n",
    "- `x_test`: the input data for the test set with 256 points\n",
    "- `y_test`: the labels for the test set with 256 points"
   ]
  },
  {
   "cell_type": "code",
   "execution_count": null,
   "metadata": {},
   "outputs": [
    {
     "ename": "",
     "evalue": "",
     "output_type": "error",
     "traceback": [
      "\u001b[1;31mRunning cells with 'nougat' requires the ipykernel package.\n",
      "\u001b[1;31mRun the following command to install 'ipykernel' into the Python environment. \n",
      "\u001b[1;31mCommand: 'conda install -n nougat ipykernel --update-deps --force-reinstall'"
     ]
    }
   ],
   "source": [
    "### CREATE TWO MOONS DATASET ###\n",
    "X, y = make_moons(n_samples=1280, noise=0.1, random_state=SEED)\n",
    "\n",
    "# normalize dataset\n",
    "X = (X - X.mean(axis=0)) / X.std(axis=0)\n",
    "\n",
    "X_train = X[:1024]\n",
    "y_train = y[:1024]\n",
    "X_test = X[1024:]\n",
    "y_test = y[1024:]\n",
    "\n",
    "train_tensor = GPUTensorDataset(\n",
    "    torch.from_numpy(X_train).float(), torch.from_numpy(y_train))\n",
    "test_tensor = GPUTensorDataset(\n",
    "    torch.from_numpy(X_test).float(), torch.from_numpy(y_test))\n",
    "train_loader = GPUDataLoader(train_tensor, batch_size=128, shuffle=True)\n",
    "test_loader = GPUDataLoader(test_tensor, batch_size=1280-1024)\n",
    "INPUT_SIZE = train_tensor.data.shape[1]"
   ]
  },
  {
   "cell_type": "code",
   "execution_count": null,
   "metadata": {},
   "outputs": [
    {
     "ename": "",
     "evalue": "",
     "output_type": "error",
     "traceback": [
      "\u001b[1;31mRunning cells with 'nougat' requires the ipykernel package.\n",
      "\u001b[1;31mRun the following command to install 'ipykernel' into the Python environment. \n",
      "\u001b[1;31mCommand: 'conda install -n nougat ipykernel --update-deps --force-reinstall'"
     ]
    }
   ],
   "source": [
    "### PLOT X, y ###\n",
    "# subplot for training data and test data\n",
    "fig, ax = plt.subplots(1, 2, figsize=(15, 5))\n",
    "ax[0].grid(True)\n",
    "ax[1].grid(True)\n",
    "ax[0].scatter(X_train[:, 0], X_train[:, 1], c=y_train, cmap=plt.cm.Spectral, edgecolors='k', zorder=2)\n",
    "ax[0].set_title(\"Training data\")\n",
    "ax[1].scatter(X_test[:, 0], X_test[:, 1], c=y_test, cmap=plt.cm.Spectral, edgecolors='k', zorder=2)\n",
    "ax[1].set_title(\"Test data\")\n",
    "plt.show()"
   ]
  },
  {
   "cell_type": "markdown",
   "metadata": {},
   "source": [
    "## <a id='toc1_3_'></a>[Configuration of the network](#toc0_)\n",
    "\n",
    "We configure the network by setting the parameters within a dictionary."
   ]
  },
  {
   "cell_type": "code",
   "execution_count": null,
   "metadata": {},
   "outputs": [
    {
     "ename": "",
     "evalue": "",
     "output_type": "error",
     "traceback": [
      "\u001b[1;31mRunning cells with 'nougat' requires the ipykernel package.\n",
      "\u001b[1;31mRun the following command to install 'ipykernel' into the Python environment. \n",
      "\u001b[1;31mCommand: 'conda install -n nougat ipykernel --update-deps --force-reinstall'"
     ]
    }
   ],
   "source": [
    "\n",
    "### NETWORK CONFIGURATION ###\n",
    "networks_data = [\n",
    "    {\n",
    "        \"nn_type\": models.BNN,\n",
    "        \"nn_parameters\": {\n",
    "            \"layers\": [INPUT_SIZE, 2048, 2048, 10],\n",
    "            \"init\": \"uniform\",\n",
    "            \"device\": DEVICE,\n",
    "            \"std\": 0.1,\n",
    "            \"dropout\": False,\n",
    "            \"batchnorm\": True,\n",
    "            \"bnmomentum\": 0.15,\n",
    "            \"bneps\": 1e-5,\n",
    "            \"latent_weights\": False,\n",
    "            \"running_stats\": False,\n",
    "        },\n",
    "        \"training_parameters\": {\n",
    "            'n_epochs': 100,\n",
    "            'batch_size': 128,\n",
    "            'test_mcmc_samples': 1,\n",
    "        },\n",
    "        \"criterion\": torch.functional.F.nll_loss,\n",
    "        \"reduction\": \"mean\",\n",
    "        \"optimizer\": BinarySynapticUncertainty,\n",
    "        \"optimizer_parameters\": {\n",
    "            \"temperature\": 1,\n",
    "            \"num_mcmc_samples\": 1,\n",
    "            \"init_lambda\": 0,\n",
    "            \"lr\": 1,\n",
    "            \"metaplasticity\": 0.35,\n",
    "            \"gamma\": 0,\n",
    "        },\n",
    "    }\n",
    "]"
   ]
  },
  {
   "cell_type": "markdown",
   "metadata": {},
   "source": [
    "## <a id='toc1_4_'></a>[Training the network](#toc0_)"
   ]
  },
  {
   "cell_type": "code",
   "execution_count": null,
   "metadata": {},
   "outputs": [
    {
     "ename": "",
     "evalue": "",
     "output_type": "error",
     "traceback": [
      "\u001b[1;31mRunning cells with 'nougat' requires the ipykernel package.\n",
      "\u001b[1;31mRun the following command to install 'ipykernel' into the Python environment. \n",
      "\u001b[1;31mCommand: 'conda install -n nougat ipykernel --update-deps --force-reinstall'"
     ]
    }
   ],
   "source": [
    "for index, data in enumerate(networks_data):\n",
    "\n",
    "    ### ACCURACY INITIALIZATION ###\n",
    "    accuracies = []\n",
    "    batch_size = data['training_parameters']['batch_size']\n",
    "    padding = data['padding'] if 'padding' in data else 0\n",
    "    ### FOR EACH NETWORK IN THE DICT ###\n",
    "    for iteration in range(N_NETWORKS):\n",
    "        ### SEED ###\n",
    "        torch.manual_seed(SEED + iteration)\n",
    "        if torch.cuda.is_available():\n",
    "            torch.cuda.manual_seed(SEED + iteration)\n",
    "\n",
    "        ### NETWORK INITIALIZATION ###\n",
    "        model = data['nn_type'](**data['nn_parameters'])\n",
    "\n",
    "        ### INSTANTIATE THE TRAINER ###\n",
    "        if data[\"optimizer\"] in [BinarySynapticUncertainty, BayesBiNN]:\n",
    "            network = trainer.BayesTrainer(batch_size=batch_size,\n",
    "                                            model=model, **data, device=DEVICE)\n",
    "        else:\n",
    "            network = trainer.GPUTrainer(batch_size=batch_size,\n",
    "                                            model=model, **data, device=DEVICE, logarithmic=True)\n",
    "\n",
    "        ### TRAINING ###\n",
    "\n",
    "        network.fit(\n",
    "            train_loader, **data['training_parameters'], test_loader=[test_loader], verbose=True)\n"
   ]
  },
  {
   "cell_type": "markdown",
   "metadata": {},
   "source": [
    "## Exploiting the results"
   ]
  },
  {
   "cell_type": "code",
   "execution_count": null,
   "metadata": {},
   "outputs": [
    {
     "ename": "",
     "evalue": "",
     "output_type": "error",
     "traceback": [
      "\u001b[1;31mRunning cells with 'nougat' requires the ipykernel package.\n",
      "\u001b[1;31mRun the following command to install 'ipykernel' into the Python environment. \n",
      "\u001b[1;31mCommand: 'conda install -n nougat ipykernel --update-deps --force-reinstall'"
     ]
    }
   ],
   "source": [
    "# Use the predictions of the network to plot the uncertainty of the measures\n",
    "N_TEST_SAMPLES = 1000\n",
    "predictions = []\n",
    "for inputs, targets in test_loader:\n",
    "    # gives us the mean and the std of the predictions\n",
    "    predictions.append(network.predict(inputs.to(DEVICE), N_TEST_SAMPLES))\n",
    "\n",
    "mean = torch.cat([p[0] for p in predictions], dim=0)\n",
    "std = torch.cat([p[1] for p in predictions], dim=0)"
   ]
  }
 ],
 "metadata": {
  "kernelspec": {
   "display_name": "binarized",
   "language": "python",
   "name": "python3"
  },
  "language_info": {
   "codemirror_mode": {
    "name": "ipython",
    "version": 3
   },
   "file_extension": ".py",
   "mimetype": "text/x-python",
   "name": "python",
   "nbconvert_exporter": "python",
   "pygments_lexer": "ipython3",
   "version": "3.10.13"
  },
  "orig_nbformat": 4
 },
 "nbformat": 4,
 "nbformat_minor": 2
}
