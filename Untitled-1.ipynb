{
 "cells": [
  {
   "cell_type": "code",
   "execution_count": 298,
   "metadata": {},
   "outputs": [
    {
     "name": "stdout",
     "output_type": "stream",
     "text": [
      "tensor(0.0005)\n",
      "tensor(0.9068)\n"
     ]
    },
    {
     "data": {
      "image/png": "[encoded data removed]",
      "text/plain": [
       "<Figure size 640x480 with 1 Axes>"
      ]
     },
     "metadata": {},
     "output_type": "display_data"
    }
   ],
   "source": [
    "import torch\n",
    "import matplotlib.pyplot as plt\n",
    "# vector of 1 000 000 elements\n",
    "num = 2000\n",
    "matrix = torch.zeros(num, num)\n",
    "# sample uniformly from the range [0, 1) 1 000 000 elements\n",
    "epsilon = torch.rand(num, num)\n",
    "delta = 1/2*torch.log(epsilon/(1-epsilon))\n",
    "print(delta.mean())\n",
    "print(delta.std())\n",
    "# print histogram of the values\n",
    "bins = 50\n",
    "hist = torch.histc(delta, bins=bins, min=delta.min(), max=delta.max())\n",
    "x = torch.linspace(delta.min(), delta.max(), bins)\n",
    "plt.bar(x, hist * 100/ hist.sum(), width=0.2)\n",
    "plt.show()"
   ]
  },
  {
   "cell_type": "code",
   "execution_count": 299,
   "metadata": {},
   "outputs": [
    {
     "name": "stdout",
     "output_type": "stream",
     "text": [
      "tensor([[ 0.8520,  0.0099,  0.9620,  ..., -0.7283,  0.9061,  0.4862],\n",
      "        [ 0.6838,  0.6918, -0.6243,  ...,  0.1837,  0.0127,  0.4645],\n",
      "        [-0.5968, -0.5094, -0.1809,  ..., -0.5296,  0.6347, -0.0377],\n",
      "        ...,\n",
      "        [ 0.7380,  0.2406, -0.3007,  ..., -0.4093, -0.6919,  0.2750],\n",
      "        [-0.3647,  0.4460,  0.8003,  ...,  0.1572, -0.6260, -0.1080],\n",
      "        [ 0.5970,  0.2227,  0.8217,  ..., -0.7308, -0.6313,  0.2857]])\n"
     ]
    }
   ],
   "source": [
    "print(torch.tanh(delta))"
   ]
  }
 ],
 "metadata": {
  "kernelspec": {
   "display_name": "binarized",
   "language": "python",
   "name": "python3"
  },
  "language_info": {
   "codemirror_mode": {
    "name": "ipython",
    "version": 3
   },
   "file_extension": ".py",
   "mimetype": "text/x-python",
   "name": "python",
   "nbconvert_exporter": "python",
   "pygments_lexer": "ipython3",
   "version": "3.9.18"
  }
 },
 "nbformat": 4,
 "nbformat_minor": 2
}
