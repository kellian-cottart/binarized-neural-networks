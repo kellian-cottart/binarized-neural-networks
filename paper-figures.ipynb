{
 "cells": [
  {
   "cell_type": "code",
   "execution_count": 22,
   "metadata": {},
   "outputs": [],
   "source": [
    "from utils.visual import *\n",
    "import torch\n",
    "import matplotlib.pyplot as plt\n",
    "from matplotlib.ticker import MaxNLocator, MultipleLocator, FormatStrFormatter\n",
    "import os"
   ]
  },
  {
   "cell_type": "code",
   "execution_count": 30,
   "metadata": {},
   "outputs": [],
   "source": [
    "n_iterations = 5\n",
    "paths = [\n",
    "    \"./paper/saved_results/2024-06-26-15h48:22-BHUparallel-BS128-512-PermutedMNIST-gate-v1\",\n",
    "    \"./paper/saved_results/2024-06-26-12h52:06-MetaplasticAdam-BS128-512-PermutedMNIST-gate-v1\",\n",
    "    \"./paper/saved_results/2024-07-01-08h59:39-BayesBiNN-BS128-512-PermutedMNIST-gate-v1\"\n",
    "]\n",
    "model_names = [\n",
    "    \"This work\", \n",
    "    \"Synaptic Metaplasticity\",\n",
    "    \"BayesBiNN\"\n",
    "]\n",
    "\n",
    "models = []\n",
    "for path in paths:\n",
    "    accuracies = []\n",
    "    for it in range(n_iterations):\n",
    "        accuracies.append(torch.load(os.path.join(path, f\"params-network-{it}\", \"accuracy.pt\")))\n",
    "    models.append(accuracies)\n",
    "    \n",
    "fig, ax = plt.subplots()\n",
    "palette = plt.get_cmap('viridis', len(models)+1)\n",
    "for i, model in enumerate(models):\n",
    "    mean, std = get_mean_std_accuracies(model, t_start=1, t_end=10)\n",
    "    ax.plot(mean, color=palette(i), label=model_names[i], marker=\"o\")\n",
    "    ax.fill_between(np.arange(0, 10), mean-std, mean+std, color=palette(i), alpha=0.2)\n",
    "\n",
    "# hline: fully connected\n",
    "ax.axhline(y=97.95, color=\"black\", linestyle='--', alpha=0.5, label=\"Baseline (Adam)\")\n",
    "ax.fill_between(np.arange(0, 10), 97.95-0.05, 97.95+0.05, color=\"black\", alpha=0.2)\n",
    "\n",
    "\n",
    "ax.set_xticks(np.arange(0, 10, 1))\n",
    "ax.set_xticklabels(np.arange(1, 11, 1))\n",
    "ax.set_xlabel(\"Task [-]\")\n",
    "ax.set_ylabel(\"Test accuracy [-]\")\n",
    "ax.yaxis.set_minor_locator(AutoMinorLocator(5))\n",
    "ax.legend(frameon=False)\n",
    "\n",
    "title = versionning(folder=\"./paper/figures\", title=\"permutedMNIST\", format=\".pdf\")\n",
    "plt.savefig(title, format=\"pdf\", bbox_inches='tight')\n",
    "plt.savefig(title.replace(\".pdf\", \".svg\"), format=\"svg\", bbox_inches='tight')\n",
    "plt.close()"
   ]
  },
  {
   "cell_type": "code",
   "execution_count": 29,
   "metadata": {},
   "outputs": [],
   "source": [
    "x = torch.linspace(-4, 4, 100)\n",
    "width = 1\n",
    "palette = plt.get_cmap('viridis', 3)\n",
    "gate = lambda x, width: 2*(x.abs() < width).float() - 1\n",
    "backprop = lambda x, width: (((x > -3*width/2) & (x < -width/2)).float() -\n",
    "                              ((x > width/2) & ((x < 3*width/2))).float())\n",
    "fig, ax = plt.subplots()\n",
    "ax.plot(x, gate(x, width), label=\"Gate\", color=palette(0))\n",
    "ax.plot(x, backprop(x, width), label=\"Derivative\", color=palette(1))\n",
    "ax.legend(frameon=False)\n",
    "ax.set_xlabel(\"x\")\n",
    "ax.set_ylabel(\"y\")\n",
    "# one tick every 0.5 on y on major ticks\n",
    "ax.yaxis.set_major_locator(MultipleLocator(1))\n",
    "ax.yaxis.set_minor_locator(MultipleLocator(1))\n",
    "title = versionning(folder=\"./paper/figures\", title=\"gate\", format=\".pdf\")\n",
    "plt.savefig(title, format=\"pdf\", bbox_inches='tight')\n",
    "plt.savefig(title.replace(\".pdf\", \".svg\"), format=\"svg\", bbox_inches='tight')\n",
    "plt.close()"
   ]
  },
  {
   "cell_type": "code",
   "execution_count": 9,
   "metadata": {},
   "outputs": [
    {
     "name": "stderr",
     "output_type": "stream",
     "text": [
      "/tmp/ipykernel_100515/3393354238.py:15: UserWarning: Matplotlib is currently using agg, which is a non-GUI backend, so cannot show the figure.\n",
      "  plt.show()\n"
     ]
    }
   ],
   "source": [
    "lambda_t = torch.tensor([0, 5, 10])\n",
    "lambda_ = torch.linspace(-20, 20, 1000)\n",
    "\n",
    "# KL divergence\n",
    "kl = lambda lambda_, lambda_t: torch.tanh(lambda_)*(lambda_-lambda_t) + 1/2 * torch.log(torch.cosh(lambda_t)**2 / torch.cosh(lambda_)**2)\n",
    "cm = plt.get_cmap('viridis', len(lambda_t)+1)\n",
    "# plot \n",
    "for i, lbd_t in enumerate(lambda_t):\n",
    "    plt.plot(lambda_, kl(lambda_, lbd_t).detach().numpy(), label=r'$\\lambda^{(i)}_t' + f'={lbd_t:.1f}$', color=cm(i))\n",
    "plt.xlabel(r'$\\lambda^{(i)}$ [-]')\n",
    "plt.ylabel('KL divergence [-]')\n",
    "for i, lbd_t in enumerate(lambda_t):\n",
    "    plt.axvline(lbd_t, linestyle='--', alpha=0.5, color=cm(i))\n",
    "plt.legend(frameon=False, fontsize=12)\n",
    "plt.show()\n",
    "# save as pdf and svg\n",
    "os.makedirs('paper', exist_ok=True)\n",
    "plt.savefig('paper/kl_divergence.pdf', bbox_inches='tight')\n",
    "plt.savefig('paper/kl_divergence.svg')"
   ]
  },
  {
   "cell_type": "code",
   "execution_count": 10,
   "metadata": {},
   "outputs": [
    {
     "name": "stderr",
     "output_type": "stream",
     "text": [
      "/tmp/ipykernel_100515/975591221.py:18: UserWarning: Matplotlib is currently using agg, which is a non-GUI backend, so cannot show the figure.\n",
      "  plt.show()\n"
     ]
    }
   ],
   "source": [
    " # plot 1/cosh²(x)\n",
    "x = torch.linspace(-10, 10, 1_000)\n",
    "grads = torch.tensor([0.001, 0.01, 0.1])\n",
    "alpha = 10\n",
    "# color map viridis\n",
    "cm = plt.get_cmap('viridis', len(grads)+1)\n",
    "plt.figure(figsize=(8, 6))\n",
    "for index, grad in enumerate(grads):\n",
    "    f = 1/(1/torch.cosh(x)**2 + grad*2*torch.tanh(x) + 2*torch.abs(grad) + 1/alpha)\n",
    "    plt.plot(x, f, label=r'$\\nabla_{\\lambda^{(i)}}\\mathcal{L}$'+ f' = {grad:.3f}', color=cm(index))\n",
    "plt.ylabel(r'Learning rate [-]', fontsize=14)\n",
    "plt.legend(fontsize=12, frameon=False, loc='lower left')\n",
    "plt.xlabel('$\\lambda^{(i)}}$ [-]', fontsize=14)\n",
    "\n",
    "# save as pdf and svg\n",
    "plt.savefig('paper/learning_rate.pdf', bbox_inches='tight')\n",
    "plt.savefig('paper/learning_rate.svg')\n",
    "plt.show()"
   ]
  },
  {
   "cell_type": "code",
   "execution_count": 11,
   "metadata": {},
   "outputs": [
    {
     "data": {
      "text/plain": [
       "[<matplotlib.lines.Line2D at 0x7fb4f315b5b0>]"
      ]
     },
     "execution_count": 11,
     "metadata": {},
     "output_type": "execute_result"
    }
   ],
   "source": [
    "p = torch.arange(0, 1, 0.0001)\n",
    "fct = 1/2 *torch.log(p/(1-p))\n",
    "# add grid\n",
    "fig, ax = plt.subplots(figsize=(5, 8))\n",
    "# dashed line at y=0\n",
    "ax.axhline(y=0, color='black', linestyle='--')\n",
    "ax.axhline(y=4, color='black', linestyle='--')\n",
    "ax.axhline(y=-4, color='black', linestyle='--')\n",
    "# write a text above each dashed line corresponding to p=0, p=1/2, p=1\n",
    "ax.text(0.3, 0.5, r'$p(w_i = 1) = \\frac{1}{2}$', fontsize=12)\n",
    "ax.text(0.3, 4.5, r'$p(w_i = 1) \\approx 1$', fontsize=12)\n",
    "ax.text(0.3, -3.5, r'$p(w_i = 1) \\approx 0$', fontsize=12)\n",
    "\n",
    "ax.set_xlabel(r'$p_i$ [-]', fontsize=12)\n",
    "ax.set_ylabel(r'$\\phi(p_i)$ [-]', fontsize=12)\n",
    "ax.plot(p, fct, color='red')\n",
    " "
   ]
  },
  {
   "cell_type": "code",
   "execution_count": 12,
   "metadata": {},
   "outputs": [
    {
     "ename": "FileNotFoundError",
     "evalue": "[Errno 2] No such file or directory: 'hessian/hessian.pt'",
     "output_type": "error",
     "traceback": [
      "\u001b[0;31m---------------------------------------------------------------------------\u001b[0m",
      "\u001b[0;31mFileNotFoundError\u001b[0m                         Traceback (most recent call last)",
      "Cell \u001b[0;32mIn[12], line 1\u001b[0m\n\u001b[0;32m----> 1\u001b[0m hessian \u001b[38;5;241m=\u001b[39m \u001b[43mtorch\u001b[49m\u001b[38;5;241;43m.\u001b[39;49m\u001b[43mload\u001b[49m\u001b[43m(\u001b[49m\u001b[38;5;124;43m\"\u001b[39;49m\u001b[38;5;124;43mhessian/hessian.pt\u001b[39;49m\u001b[38;5;124;43m\"\u001b[39;49m\u001b[43m)\u001b[49m[\u001b[38;5;241m-\u001b[39m\u001b[38;5;241m1\u001b[39m]\u001b[38;5;241m.\u001b[39mreshape(\u001b[38;5;241m-\u001b[39m\u001b[38;5;241m1\u001b[39m)\u001b[38;5;241m.\u001b[39mdetach()\u001b[38;5;241m.\u001b[39mcpu()\n\u001b[1;32m      2\u001b[0m lambda_ \u001b[38;5;241m=\u001b[39m torch\u001b[38;5;241m.\u001b[39mload(\u001b[38;5;124m\"\u001b[39m\u001b[38;5;124mhessian/lambda.pt\u001b[39m\u001b[38;5;124m\"\u001b[39m)\u001b[38;5;241m.\u001b[39mreshape(\u001b[38;5;241m-\u001b[39m\u001b[38;5;241m1\u001b[39m)\u001b[38;5;241m.\u001b[39mdetach()\u001b[38;5;241m.\u001b[39mcpu()\n\u001b[1;32m      3\u001b[0m grad \u001b[38;5;241m=\u001b[39m torch\u001b[38;5;241m.\u001b[39mload(\u001b[38;5;124m\"\u001b[39m\u001b[38;5;124mhessian/gradient.pt\u001b[39m\u001b[38;5;124m\"\u001b[39m)[\u001b[38;5;241m-\u001b[39m\u001b[38;5;241m1\u001b[39m]\u001b[38;5;241m.\u001b[39mreshape(\u001b[38;5;241m-\u001b[39m\u001b[38;5;241m1\u001b[39m)\u001b[38;5;241m.\u001b[39mdetach()\u001b[38;5;241m.\u001b[39mcpu()\n",
      "File \u001b[0;32m~/micromamba/envs/binarized/lib/python3.9/site-packages/torch/serialization.py:986\u001b[0m, in \u001b[0;36mload\u001b[0;34m(f, map_location, pickle_module, weights_only, mmap, **pickle_load_args)\u001b[0m\n\u001b[1;32m    983\u001b[0m \u001b[38;5;28;01mif\u001b[39;00m \u001b[38;5;124m'\u001b[39m\u001b[38;5;124mencoding\u001b[39m\u001b[38;5;124m'\u001b[39m \u001b[38;5;129;01mnot\u001b[39;00m \u001b[38;5;129;01min\u001b[39;00m pickle_load_args\u001b[38;5;241m.\u001b[39mkeys():\n\u001b[1;32m    984\u001b[0m     pickle_load_args[\u001b[38;5;124m'\u001b[39m\u001b[38;5;124mencoding\u001b[39m\u001b[38;5;124m'\u001b[39m] \u001b[38;5;241m=\u001b[39m \u001b[38;5;124m'\u001b[39m\u001b[38;5;124mutf-8\u001b[39m\u001b[38;5;124m'\u001b[39m\n\u001b[0;32m--> 986\u001b[0m \u001b[38;5;28;01mwith\u001b[39;00m \u001b[43m_open_file_like\u001b[49m\u001b[43m(\u001b[49m\u001b[43mf\u001b[49m\u001b[43m,\u001b[49m\u001b[43m \u001b[49m\u001b[38;5;124;43m'\u001b[39;49m\u001b[38;5;124;43mrb\u001b[39;49m\u001b[38;5;124;43m'\u001b[39;49m\u001b[43m)\u001b[49m \u001b[38;5;28;01mas\u001b[39;00m opened_file:\n\u001b[1;32m    987\u001b[0m     \u001b[38;5;28;01mif\u001b[39;00m _is_zipfile(opened_file):\n\u001b[1;32m    988\u001b[0m         \u001b[38;5;66;03m# The zipfile reader is going to advance the current file position.\u001b[39;00m\n\u001b[1;32m    989\u001b[0m         \u001b[38;5;66;03m# If we want to actually tail call to torch.jit.load, we need to\u001b[39;00m\n\u001b[1;32m    990\u001b[0m         \u001b[38;5;66;03m# reset back to the original position.\u001b[39;00m\n\u001b[1;32m    991\u001b[0m         orig_position \u001b[38;5;241m=\u001b[39m opened_file\u001b[38;5;241m.\u001b[39mtell()\n",
      "File \u001b[0;32m~/micromamba/envs/binarized/lib/python3.9/site-packages/torch/serialization.py:435\u001b[0m, in \u001b[0;36m_open_file_like\u001b[0;34m(name_or_buffer, mode)\u001b[0m\n\u001b[1;32m    433\u001b[0m \u001b[38;5;28;01mdef\u001b[39;00m \u001b[38;5;21m_open_file_like\u001b[39m(name_or_buffer, mode):\n\u001b[1;32m    434\u001b[0m     \u001b[38;5;28;01mif\u001b[39;00m _is_path(name_or_buffer):\n\u001b[0;32m--> 435\u001b[0m         \u001b[38;5;28;01mreturn\u001b[39;00m \u001b[43m_open_file\u001b[49m\u001b[43m(\u001b[49m\u001b[43mname_or_buffer\u001b[49m\u001b[43m,\u001b[49m\u001b[43m \u001b[49m\u001b[43mmode\u001b[49m\u001b[43m)\u001b[49m\n\u001b[1;32m    436\u001b[0m     \u001b[38;5;28;01melse\u001b[39;00m:\n\u001b[1;32m    437\u001b[0m         \u001b[38;5;28;01mif\u001b[39;00m \u001b[38;5;124m'\u001b[39m\u001b[38;5;124mw\u001b[39m\u001b[38;5;124m'\u001b[39m \u001b[38;5;129;01min\u001b[39;00m mode:\n",
      "File \u001b[0;32m~/micromamba/envs/binarized/lib/python3.9/site-packages/torch/serialization.py:416\u001b[0m, in \u001b[0;36m_open_file.__init__\u001b[0;34m(self, name, mode)\u001b[0m\n\u001b[1;32m    415\u001b[0m \u001b[38;5;28;01mdef\u001b[39;00m \u001b[38;5;21m__init__\u001b[39m(\u001b[38;5;28mself\u001b[39m, name, mode):\n\u001b[0;32m--> 416\u001b[0m     \u001b[38;5;28msuper\u001b[39m()\u001b[38;5;241m.\u001b[39m\u001b[38;5;21m__init__\u001b[39m(\u001b[38;5;28;43mopen\u001b[39;49m\u001b[43m(\u001b[49m\u001b[43mname\u001b[49m\u001b[43m,\u001b[49m\u001b[43m \u001b[49m\u001b[43mmode\u001b[49m\u001b[43m)\u001b[49m)\n",
      "\u001b[0;31mFileNotFoundError\u001b[0m: [Errno 2] No such file or directory: 'hessian/hessian.pt'"
     ]
    }
   ],
   "source": [
    "hessian = torch.load(\"hessian/hessian.pt\")[-1].reshape(-1).detach().cpu()\n",
    "lambda_ = torch.load(\"hessian/lambda.pt\").reshape(-1).detach().cpu()\n",
    "grad = torch.load(\"hessian/gradient.pt\")[-1].reshape(-1).detach().cpu()\n",
    "\n",
    "plt.figure()\n",
    "# Plot y = hessian and x = lambda\n",
    "plt.scatter(lambda_, hessian, c='b', marker='o')\n",
    "plt.xlabel('$\\lambda$ [-]')\n",
    "plt.ylabel(r'Hessian diagonal w.r.t $\\lambda$ [-]')\n",
    "plt.show()\n",
    "\n",
    "p = torch.sigmoid(2*lambda_)\n",
    "dlbddp = 1/(2*p - (2*p)**2 + 1e-5)\n",
    "dlbddp2 = (2*p-1) / (2*(p-1)**2 * p**2+ 1e-5)\n",
    "dLdp2 = hessian * dlbddp**2 + dlbddp2*grad\n",
    "plt.scatter(p, hessian, c='r', marker='o')\n",
    "plt.xlabel('$p$ [-]')\n",
    "plt.ylabel(r'Hessian diagonal w.r.t p [-]')\n",
    "plt.show()"
   ]
  }
 ],
 "metadata": {
  "kernelspec": {
   "display_name": "binarized",
   "language": "python",
   "name": "python3"
  },
  "language_info": {
   "codemirror_mode": {
    "name": "ipython",
    "version": 3
   },
   "file_extension": ".py",
   "mimetype": "text/x-python",
   "name": "python",
   "nbconvert_exporter": "python",
   "pygments_lexer": "ipython3",
   "version": "3.9.18"
  }
 },
 "nbformat": 4,
 "nbformat_minor": 2
}
