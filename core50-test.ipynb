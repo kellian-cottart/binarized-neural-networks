{
 "cells": [
  {
   "cell_type": "code",
   "execution_count": 1,
   "metadata": {},
   "outputs": [],
   "source": [
    "\n",
    "REPOSITORY_CORE50_NPZ_128 = \"http://bias.csr.unibo.it/maltoni/download/core50/core50_imgs.npz\"\n",
    "REPOSITORY_CORE50_PATHS = \"https://vlomonaco.github.io/core50/data/paths.pkl\"\n",
    "REPOSITORY_CORE50_LABELS = \"https://vlomonaco.github.io/core50/data/labels.pkl\"\n",
    "REPOSITORY_CORE50_LUP = \"https://vlomonaco.github.io/core50/data/LUP.pkl\"\n",
    "md5 = {\n",
    "    \"core50_imgs.npz\": \"3689d65d0a1c760b87821b114c8c4c6c\",\n",
    "    \"labels.pkl\": \"281c95774306a2196f4505f22fd60ab1\",\n",
    "    \"paths.pkl\": \"b568f86998849184df3ec3465290f1b0\",\n",
    "    \"LUP.pkl\": \"33afc26faa460aca98739137fdfa606e\"\n",
    "}\n",
    "FOLDER = \"./datasets/core50\"\n",
    "import os\n",
    "import requests\n",
    "import pickle\n",
    "import numpy as np\n",
    "import sys\n",
    "from tqdm import tqdm\n",
    "import hashlib"
   ]
  },
  {
   "cell_type": "code",
   "execution_count": 2,
   "metadata": {},
   "outputs": [
    {
     "name": "stdout",
     "output_type": "stream",
     "text": [
      "Downloading paths...\n"
     ]
    },
    {
     "name": "stderr",
     "output_type": "stream",
     "text": [
      "100%|██████████| 5.28M/5.28M [00:00<00:00, 11.1MiB/s]\n"
     ]
    },
    {
     "name": "stdout",
     "output_type": "stream",
     "text": [
      "Checksum validated for ./datasets/core50/paths.pkl\n",
      "Downloading labels...\n"
     ]
    },
    {
     "name": "stderr",
     "output_type": "stream",
     "text": [
      "100%|██████████| 26.5M/26.5M [00:02<00:00, 11.5MiB/s]\n"
     ]
    },
    {
     "name": "stdout",
     "output_type": "stream",
     "text": [
      "Checksum validated for ./datasets/core50/labels.pkl\n",
      "Downloading lup...\n"
     ]
    },
    {
     "name": "stderr",
     "output_type": "stream",
     "text": [
      "100%|██████████| 55.5M/55.5M [00:04<00:00, 11.6MiB/s]\n"
     ]
    },
    {
     "name": "stdout",
     "output_type": "stream",
     "text": [
      "Checksum validated for ./datasets/core50/LUP.pkl\n",
      "Download completed.\n"
     ]
    }
   ],
   "source": [
    "os.makedirs(FOLDER, exist_ok=True)\n",
    "def download_file(url, file_path):\n",
    "    response = requests.get(url, stream=True)\n",
    "    total_size_in_bytes = int(response.headers.get('content-length', 0))\n",
    "    progress_bar = tqdm(total=total_size_in_bytes, unit='iB', unit_scale=True)\n",
    "    with open(file_path, 'wb') as file:\n",
    "        for data in response.iter_content(1024):\n",
    "            progress_bar.update(len(data))\n",
    "            file.write(data)\n",
    "    progress_bar.close()\n",
    "    if not checksum(file_path, md5[os.path.basename(file_path)]):\n",
    "        print(\"Checksum failed. Deleting file.\")\n",
    "        os.remove(file_path)\n",
    "        sys.exit(1)\n",
    "    else:\n",
    "        print(\"Checksum validated for \" + file_path)\n",
    "\n",
    "def checksum(file_path, md5):\n",
    "    with open(file_path, \"rb\") as f:\n",
    "        file_hash = hashlib.md5()\n",
    "        while chunk := f.read(4096):\n",
    "            file_hash.update(chunk)\n",
    "    return file_hash.hexdigest() == md5\n",
    "\n",
    "if not os.path.exists(FOLDER + \"/core50_imgs.npz\"):\n",
    "    print(\"Downloading dataset core50...\")\n",
    "    download_file(REPOSITORY_CORE50_NPZ_128, FOLDER + \"/core50_imgs.npz\")\n",
    "if not os.path.exists(FOLDER + \"/paths.pkl\"):\n",
    "    print(\"Downloading paths...\")\n",
    "    download_file(REPOSITORY_CORE50_PATHS, FOLDER + \"/paths.pkl\")\n",
    "if not os.path.exists(FOLDER + \"/labels.pkl\"):\n",
    "    print(\"Downloading labels...\")\n",
    "    download_file(REPOSITORY_CORE50_LABELS, FOLDER + \"/labels.pkl\")\n",
    "if not os.path.exists(FOLDER + \"/LUP.pkl\"):\n",
    "    print(\"Downloading lup...\")\n",
    "    download_file(REPOSITORY_CORE50_LUP, FOLDER + \"/LUP.pkl\")\n",
    "print(\"Download completed.\")\n"
   ]
  },
  {
   "cell_type": "code",
   "execution_count": 3,
   "metadata": {},
   "outputs": [
    {
     "name": "stdout",
     "output_type": "stream",
     "text": [
      "(164866, 128, 128, 3)\n",
      "8\n",
      "164866\n",
      "8\n"
     ]
    }
   ],
   "source": [
    "# Load the npz file\n",
    "bin_path = FOLDER + \"/core50_img.bin\"\n",
    "if os.path.exists(bin_path):\n",
    "   data = np.fromfile(bin_path, dtype=np.uint8).reshape(164866, 128, 128, 3)\n",
    "else:\n",
    "    data = np.load(FOLDER + \"/core50_imgs.npz\")['x']\n",
    "    data.tofile(bin_path)\n",
    "labels = pickle.load(open(FOLDER + \"/labels.pkl\", \"rb\"))\n",
    "paths = pickle.load(open(FOLDER + \"/paths.pkl\", \"rb\"))\n",
    "lup = pickle.load(open(FOLDER + \"/LUP.pkl\", \"rb\"))"
   ]
  }
 ],
 "metadata": {
  "kernelspec": {
   "display_name": "binarized",
   "language": "python",
   "name": "python3"
  },
  "language_info": {
   "codemirror_mode": {
    "name": "ipython",
    "version": 3
   },
   "file_extension": ".py",
   "mimetype": "text/x-python",
   "name": "python",
   "nbconvert_exporter": "python",
   "pygments_lexer": "ipython3",
   "version": "3.9.18"
  }
 },
 "nbformat": 4,
 "nbformat_minor": 2
}
